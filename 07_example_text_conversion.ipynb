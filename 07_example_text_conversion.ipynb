{
 "cells": [
  {
   "cell_type": "markdown",
   "metadata": {},
   "source": [
    "- load text from certain webpage\n",
    "- perfrom page summary\n",
    "- use output decoder\n",
    "- use gradio (used to generate a chatbot interface)"
   ]
  },
  {
   "cell_type": "code",
   "execution_count": 1,
   "metadata": {},
   "outputs": [
    {
     "data": {
      "text/plain": [
       "True"
      ]
     },
     "execution_count": 1,
     "metadata": {},
     "output_type": "execute_result"
    }
   ],
   "source": [
    "from dotenv import load_dotenv\n",
    "load_dotenv()"
   ]
  },
  {
   "cell_type": "code",
   "execution_count": 24,
   "metadata": {},
   "outputs": [],
   "source": [
    "from langchain.document_loaders import UnstructuredURLLoader\n",
    "from langchain.text_splitter import RecursiveCharacterTextSplitter\n",
    "from langchain.chains.summarize import load_summarize_chain\n",
    "from langchain.llms import OpenAI\n",
    "from langchain.prompts import PromptTemplate\n",
    "\n",
    "from langchain.chat_models import ChatOpenAI\n",
    "from langchain.schema import HumanMessage"
   ]
  },
  {
   "cell_type": "code",
   "execution_count": 5,
   "metadata": {},
   "outputs": [],
   "source": [
    "# load data from url\n",
    "url = \"https://sports.yahoo.com/why-the-nets-felt-the-need-to-move-on-from-jacque-vaughn-223103428.html\"\n",
    "loader = UnstructuredURLLoader([url])\n",
    "data = loader.load() # directly load"
   ]
  },
  {
   "cell_type": "code",
   "execution_count": 7,
   "metadata": {},
   "outputs": [
    {
     "name": "stdout",
     "output_type": "stream",
     "text": [
      "[Document(page_content=\"Yahoo Sports\\n\\nWhy the Nets felt the need to move on from Jacque Vaughn\\n\\nJake Fischer\\n\\nSenior NBA reporter\\n\\n5 min read\\n\\nLink Copied\\n\\nTo understand why Jacque Vaughn was fired as the Brooklyn Nets’ head coach Monday morning, start by recalling how and why Vaughn rose to the first chair on Brooklyn’s bench back in November 2022.\\n\\nBarring strokes of fortune, in a business that offers little luck to precious few, Vaughn’s path always seemed to represent a stop-gap solution for Brooklyn’s front office. After dismissing Steve Nash two weeks into last season with Kevin Durant’s summer trade request still echoing off the Barclays Center rafters, the Nets ultimately pivoted to Vaughn instead of their prioritized candidate, then-embattled Ime Udoka, as Nash’s replacement — all while the franchise managed Kyrie Irving’s prolonged controversy stemming from his promotion of an antisemitic film. Vaughn dutifully served as Brooklyn's interim coach when the Nets parted ways with Kenny Atkinson in May 2020, and he did so again in the aftermath of Nash’s ouster, helping the Nets rebound from a slow start until the trade deadline that finally dispatched Durant and Irving elsewhere.\\n\\nIt wasn’t until late February that a contract extension lifted the interim tag from Vaughn’s title, backing him with a four-year agreement, league sources told Yahoo Sports, in the ballpark of $5 million per season that will be on the Nets’ books through 2026-27. Brooklyn staffers have long spoken highly of Vaughn, as the 49-year-old’s positive charisma and thoughtfulness he displayed regularly during press availability was said to mirror his genuine approach working with players behind the scenes in practice.\\n\\nThe Nets’ goal has been to bounce back toward contention, perhaps even quicker than the three years it took Sean Marks’ regime to attract Durant and Irving in 2019 free agency after he took the reins in 2016. The Nets have emphatically rejected massive offers loaded with first-round draft capital for Mikal Bridges, sources said, and seemed more than optimistic Vaughn could pilot a roster to the playoffs this season headlined by Brooklyn’s crown jewel of the combined returns for Durant and Irving. That would have marked a sixth straight postseason appearance for the franchise and certainly would have aided efforts to lure another All-Star talent to join Bridges at Barclays. Damian Lillard’s interest in teaming with the 27-year-old swingman, sources said, after his preferred path to Miami became blocked, marked a clear endorsement that the Nets rostered a burgeoning two-way force who will continue drawing eyes of starrier counterparts to this particular borough of New York.\\n\\nThere was too much at stake as the team kept dwindling under Vaughn, who went 64-65 in this latest stint with Brooklyn. Instead of chasing the sixth seed in the Eastern Conference, one rung above the play-in tournament, the Nets have fallen to 11th and out of that picture altogether. Brooklyn remains just 2.5 games back of the play-in, but will resume play after All-Star Weekend at just 21-33, having gone 6-18 since the team was 15-15. A 50-point loss in Boston before the break surely didn’t help matters.\\n\\nTo be fair, Ben Simmons advertised as a central hub of the Nets’ offense otherwise devoid of true table-setters, and he has been available for all of 12 games this season. Yet Nets players had grown quite frustrated at Brooklyn’s unstructured offense, sources said, without Simmons present to lead runaway opportunities in transition. As Brooklyn’s losses piled, the team's stagnation in the half-court became quite apparent. There was little pop to the Nets taking turns trying to attack off the dribble. Rival pro personnel scouts remarked they saw several players side-eying Vaughn as they made their way back to Brooklyn huddles, sources said. A smiley, up-beat approach can wear thin throughout a roster when it’s not producing results.\\n\\nKevin Ollie is expected to be named Brooklyn’s interim coach, league sources told Yahoo Sports. The former NBA veteran was recently a finalist for the Pistons’ head coaching job this past summer after leading Overtime Elite following his championship stint coaching UConn. Maybe Ollie will turn things around just like Vaughn before him and extend his stay manning the Nets’ sideline.\\n\\nThe long-term outcome of this position will be quite telling about the overall state of Brooklyn’s organization. Vaughn now counts as the third coach general manager Sean Marks has hired and fired during his eight-year stewardship of basketball operations. Few lead executives get the chance to handpick a fourth after only one playoff series victory to show for their past decisions. Yes, there is mounting speculation among league personnel about whether Marks could follow suit out the door. And one of his leading lieutenants, assistant general manager Jeff Peterson, continues to be mentioned by industry sources as a leading candidate to help lead the Charlotte Hornets’ front office. But among NBA figures with knowledge of the situation, there’s been little doubt, sources said, of Marks’ ongoing strong standing with Nets governors Joe Tsai and Clara Wu Tsai.\\n\\nEven still, there would seem all the importance for Marks’ group to ultimately fill their coaching position with the biggest fish available, not a first-time play-caller, and not make this staffing choice its last. In that vein, Brooklyn will need someone who boasts the postseason experience necessary to guide these Nets much closer in that exact direction. Mike Budenholzer currently bills as the most decorated coach on the market and shares obvious Spurs roots with Marks. There will be other names to emerge after this postseason shakes out, like Budenholzer before, and Pelicans assistant James Borrego, who has past experience leading Charlotte, was a candidate to join Vaughn’s bench this past summer, sources said.\\n\\nVaughn hired much of his new staff this offseason, according to league sources, a luxury that’s become afforded less and less often to head coaches. Front offices have played a stronger hand in those choices than ever before, and so Vaughn’s agency surely indicates how confident Brooklyn was in him steering these Nets through this next nadir of the franchise’s life cycle.\\n\\nThe modern NBA, though, spins fast. The calendar flips, and expectations shift. And Brooklyn’s next coach will be tasked with turning this team back on track as suddenly as Vaughn’s group derailed.\", metadata={'source': 'https://sports.yahoo.com/why-the-nets-felt-the-need-to-move-on-from-jacque-vaughn-223103428.html'})]\n"
     ]
    }
   ],
   "source": [
    "print(data)"
   ]
  },
  {
   "cell_type": "code",
   "execution_count": 9,
   "metadata": {},
   "outputs": [],
   "source": [
    "text_splitter = RecursiveCharacterTextSplitter(\n",
    "    separators=[\"Link Copied\"], \n",
    "    chunk_size=1000,\n",
    "    chunk_overlap=20,\n",
    "    length_function=len\n",
    "    )\n",
    "# load and split \n",
    "data = loader.load_and_split(text_splitter=text_splitter)"
   ]
  },
  {
   "cell_type": "code",
   "execution_count": 13,
   "metadata": {},
   "outputs": [
    {
     "data": {
      "text/plain": [
       "Document(page_content=\"Link Copied\\n\\nTo understand why Jacque Vaughn was fired as the Brooklyn Nets’ head coach Monday morning, start by recalling how and why Vaughn rose to the first chair on Brooklyn’s bench back in November 2022.\\n\\nBarring strokes of fortune, in a business that offers little luck to precious few, Vaughn’s path always seemed to represent a stop-gap solution for Brooklyn’s front office. After dismissing Steve Nash two weeks into last season with Kevin Durant’s summer trade request still echoing off the Barclays Center rafters, the Nets ultimately pivoted to Vaughn instead of their prioritized candidate, then-embattled Ime Udoka, as Nash’s replacement — all while the franchise managed Kyrie Irving’s prolonged controversy stemming from his promotion of an antisemitic film. Vaughn dutifully served as Brooklyn's interim coach when the Nets parted ways with Kenny Atkinson in May 2020, and he did so again in the aftermath of Nash’s ouster, helping the Nets rebound from a slow start until the trade deadline that finally dispatched Durant and Irving elsewhere.\\n\\nIt wasn’t until late February that a contract extension lifted the interim tag from Vaughn’s title, backing him with a four-year agreement, league sources told Yahoo Sports, in the ballpark of $5 million per season that will be on the Nets’ books through 2026-27. Brooklyn staffers have long spoken highly of Vaughn, as the 49-year-old’s positive charisma and thoughtfulness he displayed regularly during press availability was said to mirror his genuine approach working with players behind the scenes in practice.\\n\\nThe Nets’ goal has been to bounce back toward contention, perhaps even quicker than the three years it took Sean Marks’ regime to attract Durant and Irving in 2019 free agency after he took the reins in 2016. The Nets have emphatically rejected massive offers loaded with first-round draft capital for Mikal Bridges, sources said, and seemed more than optimistic Vaughn could pilot a roster to the playoffs this season headlined by Brooklyn’s crown jewel of the combined returns for Durant and Irving. That would have marked a sixth straight postseason appearance for the franchise and certainly would have aided efforts to lure another All-Star talent to join Bridges at Barclays. Damian Lillard’s interest in teaming with the 27-year-old swingman, sources said, after his preferred path to Miami became blocked, marked a clear endorsement that the Nets rostered a burgeoning two-way force who will continue drawing eyes of starrier counterparts to this particular borough of New York.\\n\\nThere was too much at stake as the team kept dwindling under Vaughn, who went 64-65 in this latest stint with Brooklyn. Instead of chasing the sixth seed in the Eastern Conference, one rung above the play-in tournament, the Nets have fallen to 11th and out of that picture altogether. Brooklyn remains just 2.5 games back of the play-in, but will resume play after All-Star Weekend at just 21-33, having gone 6-18 since the team was 15-15. A 50-point loss in Boston before the break surely didn’t help matters.\\n\\nTo be fair, Ben Simmons advertised as a central hub of the Nets’ offense otherwise devoid of true table-setters, and he has been available for all of 12 games this season. Yet Nets players had grown quite frustrated at Brooklyn’s unstructured offense, sources said, without Simmons present to lead runaway opportunities in transition. As Brooklyn’s losses piled, the team's stagnation in the half-court became quite apparent. There was little pop to the Nets taking turns trying to attack off the dribble. Rival pro personnel scouts remarked they saw several players side-eying Vaughn as they made their way back to Brooklyn huddles, sources said. A smiley, up-beat approach can wear thin throughout a roster when it’s not producing results.\\n\\nKevin Ollie is expected to be named Brooklyn’s interim coach, league sources told Yahoo Sports. The former NBA veteran was recently a finalist for the Pistons’ head coaching job this past summer after leading Overtime Elite following his championship stint coaching UConn. Maybe Ollie will turn things around just like Vaughn before him and extend his stay manning the Nets’ sideline.\\n\\nThe long-term outcome of this position will be quite telling about the overall state of Brooklyn’s organization. Vaughn now counts as the third coach general manager Sean Marks has hired and fired during his eight-year stewardship of basketball operations. Few lead executives get the chance to handpick a fourth after only one playoff series victory to show for their past decisions. Yes, there is mounting speculation among league personnel about whether Marks could follow suit out the door. And one of his leading lieutenants, assistant general manager Jeff Peterson, continues to be mentioned by industry sources as a leading candidate to help lead the Charlotte Hornets’ front office. But among NBA figures with knowledge of the situation, there’s been little doubt, sources said, of Marks’ ongoing strong standing with Nets governors Joe Tsai and Clara Wu Tsai.\\n\\nEven still, there would seem all the importance for Marks’ group to ultimately fill their coaching position with the biggest fish available, not a first-time play-caller, and not make this staffing choice its last. In that vein, Brooklyn will need someone who boasts the postseason experience necessary to guide these Nets much closer in that exact direction. Mike Budenholzer currently bills as the most decorated coach on the market and shares obvious Spurs roots with Marks. There will be other names to emerge after this postseason shakes out, like Budenholzer before, and Pelicans assistant James Borrego, who has past experience leading Charlotte, was a candidate to join Vaughn’s bench this past summer, sources said.\\n\\nVaughn hired much of his new staff this offseason, according to league sources, a luxury that’s become afforded less and less often to head coaches. Front offices have played a stronger hand in those choices than ever before, and so Vaughn’s agency surely indicates how confident Brooklyn was in him steering these Nets through this next nadir of the franchise’s life cycle.\\n\\nThe modern NBA, though, spins fast. The calendar flips, and expectations shift. And Brooklyn’s next coach will be tasked with turning this team back on track as suddenly as Vaughn’s group derailed.\", metadata={'source': 'https://sports.yahoo.com/why-the-nets-felt-the-need-to-move-on-from-jacque-vaughn-223103428.html'})"
      ]
     },
     "execution_count": 13,
     "metadata": {},
     "output_type": "execute_result"
    }
   ],
   "source": [
    "# we need 2nd element after the split\n",
    "doc = data[1]\n",
    "doc"
   ]
  },
  {
   "cell_type": "code",
   "execution_count": 21,
   "metadata": {},
   "outputs": [],
   "source": [
    "# summarize text\n",
    "# chain type\n",
    "#   stuff - combine all segments into one large doc which is passed to LLM\n",
    "#         - when doc is too large, it cannot be passed to LLM\n",
    "#         - default\n",
    "#   map reduce - pass each segment to LLM then combine summaries and passed to LLM again\n",
    "#   refine - take one doc as a start point and passed to LLM. Then, take the intermediate answer\n",
    "#             with next doc to pass to LLM to improve the answer\n",
    "llm = OpenAI(max_tokens=1500)\n",
    "chain = load_summarize_chain(\n",
    "    llm=llm)"
   ]
  },
  {
   "cell_type": "code",
   "execution_count": 22,
   "metadata": {},
   "outputs": [
    {
     "name": "stdout",
     "output_type": "stream",
     "text": [
      "\n",
      "\n",
      "Jacque Vaughn was fired as the Brooklyn Nets' head coach due to the team's underperformance and the front office's desire for a more experienced coach. Despite initial success, Vaughn's lack of playoff experience and inability to lead the team to a higher seed led to his dismissal. Kevin Ollie is expected to take over as interim coach, but the long-term coaching search will be a crucial decision for the franchise. There is speculation about the future of general manager Sean Marks, but he remains well-regarded by the team's owners. Ultimately, the Nets are looking for a coach with postseason experience to guide the team to success.\n"
     ]
    }
   ],
   "source": [
    "summary = chain.run([doc])\n",
    "print(summary)"
   ]
  },
  {
   "cell_type": "code",
   "execution_count": 23,
   "metadata": {},
   "outputs": [
    {
     "data": {
      "text/plain": [
       "' 杰克·沃恩作为布鲁克林篮网队主教练被解雇的原因是因为球队在本赛季表现不佳。球队本来希望沃恩能够带领球队重返季后赛，但在赛季中期，球队的成绩开始下滑，最终无缘季后赛。球队管理层决定解雇沃恩，由前NBA球员凯文·奥利接任暂时教练。球队希望能够找到一位有着丰富季后赛经验的教练来指导球队，以帮助球队重返争冠的道路。球队管理层也将继续寻找最合适的教练来带领球队。'"
      ]
     },
     "execution_count": 23,
     "metadata": {},
     "output_type": "execute_result"
    }
   ],
   "source": [
    "# we could also perform the translate in the function by modifying the default prompt\n",
    "prompt_template = \"\"\"总结这段新闻的内容\n",
    "\n",
    "\"{text}\"\n",
    "\n",
    "总结:\"\"\"\n",
    "\n",
    "transplate_prompt = PromptTemplate(\n",
    "    template=prompt_template, input_variables=['text'])\n",
    "\n",
    "translate_chain = load_summarize_chain(\n",
    "    llm=llm, prompt = transplate_prompt)\n",
    "\n",
    "translate_chain.run([doc])"
   ]
  },
  {
   "cell_type": "code",
   "execution_count": 38,
   "metadata": {},
   "outputs": [
    {
     "name": "stdout",
     "output_type": "stream",
     "text": [
      "content=\"Bob: Hey Peter, did you hear about Jacque Vaughn getting fired as the Nets' head coach?\\n\\nPeter: Yeah, I can't say I'm surprised. The team's underperformance was definitely disappointing.\\n\\nBob: I agree. It's a tough decision for the front office, but they want a coach with more experience to lead the team.\\n\\nPeter: Kevin Ollie as interim coach is an interesting choice, but they need to make a solid long-term decision.\\n\\nBob: Definitely. The Nets need someone with playoff experience to take them to the next level. It'll be interesting to see who they choose.\\n\\nPeter: I'm also curious about the future of general manager Sean Marks. Do you think he'll stay with the team?\\n\\nBob: I think he's well-regarded by the owners, so he might stick around. But ultimately, they need a strong coaching staff to guide the team to success.\\n\\nPeter: Yeah, it'll be a crucial decision for the franchise. Let's see how it all plays out.\"\n"
     ]
    }
   ],
   "source": [
    "# next we want to make this more like a chat between 2 people\n",
    "\n",
    "openaichat = ChatOpenAI(model_name=\"gpt-3.5-turbo\")\n",
    "\n",
    "template = \"\"\"\n",
    "I will provide a news summary. Please follow the instruction to rewrite the summary into conversation between two NBA fans.\n",
    "\n",
    "news summary: \"{summary}\"\n",
    "\n",
    "instruction: \"{instruction}\"\n",
    "\"\"\"\n",
    "\n",
    "chat_prompt = PromptTemplate.from_template(template=template)\n",
    "\n",
    "instruction = \"characters are Bob and Peter, start by greeting each other, and then make a conversation about the news\"\n",
    "\n",
    "msg = [\n",
    "    HumanMessage(content=chat_prompt.format(summary=summary, instruction=instruction))\n",
    "]\n",
    "\n",
    "res= openaichat(msg)\n",
    "\n",
    "print(res)"
   ]
  },
  {
   "cell_type": "code",
   "execution_count": 39,
   "metadata": {},
   "outputs": [
    {
     "name": "stdout",
     "output_type": "stream",
     "text": [
      "Bob: Hey Peter, did you hear about Jacque Vaughn getting fired as the Nets' head coach?\n",
      "\n",
      "Peter: Yeah, I can't say I'm surprised. The team's underperformance was definitely disappointing.\n",
      "\n",
      "Bob: I agree. It's a tough decision for the front office, but they want a coach with more experience to lead the team.\n",
      "\n",
      "Peter: Kevin Ollie as interim coach is an interesting choice, but they need to make a solid long-term decision.\n",
      "\n",
      "Bob: Definitely. The Nets need someone with playoff experience to take them to the next level. It'll be interesting to see who they choose.\n",
      "\n",
      "Peter: I'm also curious about the future of general manager Sean Marks. Do you think he'll stay with the team?\n",
      "\n",
      "Bob: I think he's well-regarded by the owners, so he might stick around. But ultimately, they need a strong coaching staff to guide the team to success.\n",
      "\n",
      "Peter: Yeah, it'll be a crucial decision for the franchise. Let's see how it all plays out.\n"
     ]
    }
   ],
   "source": [
    "# print better\n",
    "print(res.content)"
   ]
  },
  {
   "cell_type": "markdown",
   "metadata": {},
   "source": [
    "### Parser"
   ]
  },
  {
   "cell_type": "code",
   "execution_count": 40,
   "metadata": {},
   "outputs": [],
   "source": [
    "from langchain.output_parsers import PydanticOutputParser\n",
    "from pydantic import BaseModel, Field"
   ]
  },
  {
   "cell_type": "code",
   "execution_count": 41,
   "metadata": {},
   "outputs": [],
   "source": [
    "class Line(BaseModel):\n",
    "    character: str = Field(description=\"person name\")\n",
    "    content: str = Field(description=\"detailed chat message excluding person name\")\n",
    "\n",
    "class Conversation(BaseModel):\n",
    "    script: list[Line] = Field(description=\"a conversation\")"
   ]
  },
  {
   "cell_type": "code",
   "execution_count": null,
   "metadata": {},
   "outputs": [],
   "source": [
    "parser = PydanticOutputParser(pydantic_object=Conversation)"
   ]
  },
  {
   "cell_type": "code",
   "execution_count": null,
   "metadata": {},
   "outputs": [],
   "source": [
    "template = \"\"\"\n",
    "I will provide a news summary. Please follow the instruction to rewrite the summary into conversation between two NBA fans.\n",
    "\n",
    "news summary: \"{summary}\"\n",
    "\n",
    "instruction: \"{instruction}\"\n",
    "\n",
    "{output_format}\n",
    "\"\"\"\n",
    "\n",
    "chat_prompt = PromptTemplate.from_template(\n",
    "    template=template, \n",
    "    input_variable = [\"summary\", \"instruction\"],\n",
    "    partial_variables={\"output_format\": parser.get_format_instructions()}\n",
    "    )"
   ]
  },
  {
   "cell_type": "code",
   "execution_count": null,
   "metadata": {},
   "outputs": [],
   "source": []
  }
 ],
 "metadata": {
  "kernelspec": {
   "display_name": "llm_proj",
   "language": "python",
   "name": "python3"
  },
  "language_info": {
   "codemirror_mode": {
    "name": "ipython",
    "version": 3
   },
   "file_extension": ".py",
   "mimetype": "text/x-python",
   "name": "python",
   "nbconvert_exporter": "python",
   "pygments_lexer": "ipython3",
   "version": "3.10.13"
  }
 },
 "nbformat": 4,
 "nbformat_minor": 2
}
