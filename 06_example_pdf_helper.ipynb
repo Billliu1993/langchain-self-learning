{
 "cells": [
  {
   "cell_type": "markdown",
   "metadata": {},
   "source": [
    "- user is able to upload a pdf file \n",
    "- then the model is able to provide search results via Q&A format"
   ]
  },
  {
   "cell_type": "code",
   "execution_count": 17,
   "metadata": {},
   "outputs": [],
   "source": [
    "# module to load pdf\n",
    "from langchain.document_loaders import PyPDFLoader\n",
    "# word embedding and then save as vectorDB\n",
    "from langchain.indexes.vectorstore import VectorstoreIndexCreator, VectorStoreIndexWrapper\n",
    "from langchain.embeddings.openai import OpenAIEmbeddings\n",
    "from langchain.vectorstores.chroma import Chroma\n",
    "\n",
    "from dotenv import load_dotenv\n",
    "import os\n",
    "\n",
    "# conda install fastapi\n",
    "# pip install \"uvicorn[standard]\"\n",
    "\n",
    "load_dotenv()\n",
    "\n",
    "file_path = \"./JobShopSchedullingArticle.pdf\"\n",
    "local_persist_path = \"./vector_store\"\n",
    "\n",
    "def get_index_path(index_name):\n",
    "    return os.path.join(local_persist_path, index_name)\n",
    "\n",
    "def load_pdf_and_save_to_index(file_path, index_name):\n",
    "\n",
    "    loader = PyPDFLoader(file_path)\n",
    "    \n",
    "    # by default, VectorstoreIndexCreator uses openAI API\n",
    "    index = VectorstoreIndexCreator(\n",
    "        vectorstore_kwargs={'persist_directory':get_index_path(index_name)}\n",
    "        ).from_loaders([loader])\n",
    "\n",
    "    # save the vectorDB to avoid regenerating vectors next time\n",
    "    index.vectorstore.persist()\n",
    "\n",
    "# load the exported vectorDB\n",
    "def load_index(index_name):\n",
    "    index_path = get_index_path(index_name)\n",
    "    # you need to use the same embedding API as in VectorstoreIndexCreators\n",
    "    embedding = OpenAIEmbeddings()\n",
    "    vectordb = Chroma(\n",
    "        persist_directory=index_path,\n",
    "        embedding_function=embedding\n",
    "    )\n",
    "    return VectorStoreIndexWrapper(vectorstore=vectordb)\n",
    "\n",
    "\n",
    "def query_index(index, query):\n",
    "    ans = index.query_with_sources(\n",
    "    query, \n",
    "    chain_type=\"map_reduce\"\n",
    "    )\n",
    "    return ans['answer']"
   ]
  },
  {
   "cell_type": "code",
   "execution_count": 10,
   "metadata": {},
   "outputs": [],
   "source": [
    "# export to local\n",
    "load_pdf_and_save_to_index(file_path=file_path, index_name='test1')\n",
    "load_pdf_and_save_to_index(file_path=file_path, index_name='test2')"
   ]
  },
  {
   "cell_type": "code",
   "execution_count": 14,
   "metadata": {},
   "outputs": [],
   "source": [
    "index_test2 = load_index(index_name='test2')"
   ]
  },
  {
   "cell_type": "code",
   "execution_count": 15,
   "metadata": {},
   "outputs": [
    {
     "data": {
      "text/plain": [
       "' C. Özgüven'"
      ]
     },
     "execution_count": 15,
     "metadata": {},
     "output_type": "execute_result"
    }
   ],
   "source": [
    "index_test2.query(\"who is the first author?\")"
   ]
  },
  {
   "cell_type": "code",
   "execution_count": 16,
   "metadata": {},
   "outputs": [
    {
     "data": {
      "text/plain": [
       "{'question': 'what the article is about?',\n",
       " 'answer': ' The article is about solving the Flexible Job Shop Scheduling Problem (FJSP) using different approaches such as integer programming, heuristics, and simulated annealing. It also discusses extensions to the JSP, including routing flexibility and process plan flexibility. The article was published in the journal Applied Mathematical Modelling in 2010.\\n',\n",
       " 'sources': './JobShopSchedullingArticle.pdf'}"
      ]
     },
     "execution_count": 16,
     "metadata": {},
     "output_type": "execute_result"
    }
   ],
   "source": [
    "# note the above method is not working when the text input is too large\n",
    "# map reduce would only pass a small segement a time then combine at later stage\n",
    "index_test2.query_with_sources(\n",
    "    \"what the article is about?\", \n",
    "    chain_type=\"map_reduce\"\n",
    "    )"
   ]
  },
  {
   "cell_type": "code",
   "execution_count": 18,
   "metadata": {},
   "outputs": [
    {
     "data": {
      "text/plain": [
       "\" The article is about applied mathematical modelling in the context of solving the Flexible Job Shop Scheduling Problem (FJSP) using different heuristics and mathematical models. It also discusses two extensions to the JSP: routing flexibility and process plan flexibility. The article is based on a dissertation from Erciyes University's Social Sciences Institute in Kayseri, Turkey in 2004, written by C. Özgüven et al. and published in the journal Applied Mathematical Modelling in 2010.\\n\""
      ]
     },
     "execution_count": 18,
     "metadata": {},
     "output_type": "execute_result"
    }
   ],
   "source": [
    "query_index(index=index_test2, query='what the article is about?')"
   ]
  },
  {
   "cell_type": "code",
   "execution_count": null,
   "metadata": {},
   "outputs": [],
   "source": []
  }
 ],
 "metadata": {
  "kernelspec": {
   "display_name": "llm_proj",
   "language": "python",
   "name": "python3"
  },
  "language_info": {
   "codemirror_mode": {
    "name": "ipython",
    "version": 3
   },
   "file_extension": ".py",
   "mimetype": "text/x-python",
   "name": "python",
   "nbconvert_exporter": "python",
   "pygments_lexer": "ipython3",
   "version": "3.10.13"
  }
 },
 "nbformat": 4,
 "nbformat_minor": 2
}
