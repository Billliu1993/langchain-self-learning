{
 "cells": [
  {
   "cell_type": "code",
   "execution_count": 1,
   "metadata": {},
   "outputs": [],
   "source": [
    "%load_ext dotenv\n",
    "%dotenv"
   ]
  },
  {
   "cell_type": "markdown",
   "metadata": {},
   "source": [
    "### history module\n",
    "- through prompt engineering\n",
    "- can make modifications on memory\n",
    "- can load previous records from db"
   ]
  },
  {
   "cell_type": "code",
   "execution_count": 3,
   "metadata": {},
   "outputs": [],
   "source": [
    "from langchain import PromptTemplate\n",
    "\n",
    "template = \"\"\"\n",
    "You are a chatbot having a conversation with a human.\n",
    "{chat_history}\n",
    "Human: {huamn_input}\n",
    "Chatbot:\n",
    "\"\"\"\n",
    "\n",
    "prompt = PromptTemplate(\n",
    "    input_variables=['chat_history', 'human_input'],\n",
    "    template=template\n",
    ")"
   ]
  },
  {
   "cell_type": "markdown",
   "metadata": {},
   "source": [
    "### Agent module\n",
    "- the importance of agent\n",
    "- expand the applications of LLMs\n",
    "- still under early development\n",
    "\n",
    "### what is agent?\n",
    "- most of time, human inputs are unclear but complicated, thus it requires AI to first analyze the input and then give answer (from one complicated question to small segments)\n",
    "- ReAct = reasoning and acting\n",
    "- readings:\n",
    "    - https://arxiv.org/abs/2305.04091\n",
    "    - https://blog.research.google/2022/11/react-synergizing-reasoning-and-acting.html\n",
    "- agent types\n",
    "    - action agents\n",
    "    - plan and execute agents"
   ]
  },
  {
   "cell_type": "code",
   "execution_count": null,
   "metadata": {},
   "outputs": [],
   "source": [
    "### example: who is the CEO of company A? what is the age in 10 years?\n",
    "from langchain.llms import OpenAI\n",
    "from langchain.agents import load_tools, initialize_agent, AgentType\n",
    "\n",
    "llm = OpenAI(temperature=0)\n",
    "# serpapi = search, llm-math = calculate\n",
    "tools = load_tools([\"serpapi\", \"llm-math\"], llm=llm)\n",
    "agent = initialize_agent(\n",
    "    tools, llm, \n",
    "    agent=AgentType.ZERO_SHOT_REACT_DESCRIPTION, verbose=True\n",
    "    )\n",
    "agent.run(\"who is the CEO of company A? what is the age in 10 years?\")\n",
    "\n",
    "# you would need an api key for serpapi"
   ]
  },
  {
   "cell_type": "markdown",
   "metadata": {},
   "source": [
    "### callback modules\n",
    "- mostly used for data monitoring and debug"
   ]
  },
  {
   "cell_type": "markdown",
   "metadata": {},
   "source": []
  }
 ],
 "metadata": {
  "kernelspec": {
   "display_name": "llm_proj",
   "language": "python",
   "name": "python3"
  },
  "language_info": {
   "codemirror_mode": {
    "name": "ipython",
    "version": 3
   },
   "file_extension": ".py",
   "mimetype": "text/x-python",
   "name": "python",
   "nbconvert_exporter": "python",
   "pygments_lexer": "ipython3",
   "version": "3.10.13"
  }
 },
 "nbformat": 4,
 "nbformat_minor": 2
}
